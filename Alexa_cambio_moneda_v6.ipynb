{
 "cells": [
  {
   "cell_type": "markdown",
   "id": "e19940e2",
   "metadata": {},
   "source": [
    "# Practica Final\n",
    "\n",
    "- Laura Quintero\n",
    "- Lizeht Ormaza\n",
    "- Vanessa Benites\n",
    "- Mirele Borges\n",
    "\n",
    "Para hablar com Alexa diga el código de la moneda a la que desea convertir. Por ejemplo: **Alexa me dice cuánto son 10 euros en BRL.**\n"
   ]
  },
  {
   "cell_type": "code",
   "execution_count": 1,
   "id": "5df0efed",
   "metadata": {
    "id": "5df0efed"
   },
   "outputs": [],
   "source": [
    "import speech_recognition as sr\n",
    "\n",
    "import pandas as pd\n",
    "\n",
    "import nltk\n",
    "from nltk.tokenize import word_tokenize\n",
    "\n",
    "from nltk.corpus import cess_esp\n",
    "from nltk.tag.hmm import HiddenMarkovModelTagger\n",
    "\n",
    "from nltk.chunk.regexp import *\n",
    "\n",
    "from datetime import datetime\n",
    "import wikipedia\n",
    "\n",
    "from urllib.request import Request, urlopen\n",
    "from bs4 import BeautifulSoup\n",
    "from lat_lon_parser import parse\n",
    "import requests\n",
    "import pyttsx3\n",
    "from deep_translator import GoogleTranslator\n",
    "\n",
    "import openai\n",
    "\n",
    "from word2number import w2n\n",
    "\n",
    "import json"
   ]
  },
  {
   "cell_type": "code",
   "execution_count": 2,
   "id": "8e00fb13",
   "metadata": {},
   "outputs": [],
   "source": [
    "input_train = [\n",
    "    [('Alexa', 'npcfs000'), ('dime', 'vmmp2s0'), ('cuánto', 'pt3ms000'), ('es', 'vmmp2s0'), ('cien', 'mccp00'), ('euros', 'ncmp000'), ('en', 'sps00'), ('USD', 'ncfs000')] \n",
    "]\n"
   ]
  },
  {
   "cell_type": "code",
   "execution_count": 3,
   "id": "f2a1ba79",
   "metadata": {},
   "outputs": [],
   "source": [
    "hmm = HiddenMarkovModelTagger.train(input_train)"
   ]
  },
  {
   "cell_type": "code",
   "execution_count": 4,
   "id": "1895469e",
   "metadata": {
    "id": "1895469e"
   },
   "outputs": [],
   "source": [
    "reglas_moneda = r'''\n",
    "    Accion: {<vmmp2s0> <pt3ms000> | <vmmp2s0>}\n",
    "    Cantidad: <Accion> {<mc.*>}\n",
    "    Moneda: <sp.*> {<nc.*>}\n",
    "    '''\n",
    "parser = nltk.RegexpParser(reglas_moneda)"
   ]
  },
  {
   "cell_type": "code",
   "execution_count": 5,
   "id": "7c1ca2fd",
   "metadata": {
    "id": "7c1ca2fd"
   },
   "outputs": [],
   "source": [
    "traductor_es = GoogleTranslator(source='en', target='es')\n",
    "traductor_en = GoogleTranslator(source='es', target='en')"
   ]
  },
  {
   "cell_type": "code",
   "execution_count": 6,
   "id": "a36e9b6e",
   "metadata": {},
   "outputs": [],
   "source": [
    "def tokenizar(_texto):\n",
    "    \n",
    "    return word_tokenize(_texto, 'spanish')"
   ]
  },
  {
   "cell_type": "code",
   "execution_count": 7,
   "id": "c6f25675",
   "metadata": {},
   "outputs": [],
   "source": [
    "def parsear(_tokens):\n",
    "    \n",
    "    return parser.parse(_tokens)"
   ]
  },
  {
   "cell_type": "code",
   "execution_count": 8,
   "id": "00c6ea8e",
   "metadata": {},
   "outputs": [],
   "source": [
    "def extrae_moneda(_tree): \n",
    "\n",
    "    \n",
    "    data_moneda = \"\"\n",
    "    for nodo in _tree:\n",
    "        if type(nodo) == tuple:\n",
    "          continue\n",
    "        tipo = nodo.label()\n",
    "        for elemento in nodo:\n",
    "          if type(elemento) != tuple:\n",
    "            continue\n",
    "          palabra, categoria = elemento\n",
    "          if tipo == 'Moneda':\n",
    "            data_moneda=palabra\n",
    "    \n",
    "    return data_moneda"
   ]
  },
  {
   "cell_type": "code",
   "execution_count": 9,
   "id": "90170295",
   "metadata": {},
   "outputs": [],
   "source": [
    "\n",
    "def extrae_cantidad(_tree):\n",
    "    \n",
    "    data_cantidad = \"\"\n",
    "    for nodo in _tree:\n",
    "        if type(nodo) == tuple:\n",
    "          continue\n",
    "        tipo = nodo.label()\n",
    "        for elemento in nodo:\n",
    "          if type(elemento) != tuple:\n",
    "            continue\n",
    "          palabra, categoria = elemento\n",
    "          if tipo == 'Cantidad':\n",
    "            data_cantidad= palabra\n",
    "            \n",
    "            traduccion = traductor_en.translate(data_cantidad)\n",
    "            result_cantidad = w2n.word_to_num(traduccion)\n",
    "            \n",
    "    return result_cantidad"
   ]
  },
  {
   "cell_type": "code",
   "execution_count": 16,
   "id": "00b4ff56",
   "metadata": {},
   "outputs": [],
   "source": [
    "def convierte_moneda(_input_text, _hmm):\n",
    "    \n",
    "   \n",
    "    testp = hmm.tag(tokenizar(_input_text))\n",
    "    tree = parsear(testp)\n",
    "    \n",
    "    Moneda = extrae_moneda(tree)\n",
    "    Cantidad = extrae_cantidad(tree)\n",
    "    \n",
    "    APIUrl = 'https://api.apilayer.com/fixer/convert?to='\n",
    "\n",
    "    #Moneda = extrae_moneda(tree) + '&from=EUR'\n",
    "    #Cantidad = '&amount=' + str(extrae_cantidad(tree))\n",
    "    parte1 = Moneda+'&from=EUR'\n",
    "    parte2 = '&amount='+str(Cantidad)\n",
    "\n",
    "    url = APIUrl + parte1 + parte2\n",
    "    \n",
    "    \n",
    "\n",
    "\n",
    "    payload = {}\n",
    "    headers= {\n",
    "      \"apikey\": '7fDALIQd6ukbS2GrewMNTLNlxqxdyJs7'\n",
    "    }\n",
    "\n",
    "    response = requests.request(\"GET\", url, headers=headers, data = payload)\n",
    "\n",
    "    status_code = response.status_code\n",
    "    result = response.text\n",
    "    \n",
    "    dictionario = json.loads(result)\n",
    "    monto_final = dictionario['result']\n",
    "    \n",
    "    frase_final = str(Cantidad) + ' euros es ' + str(monto_final) + Moneda\n",
    "    \n",
    "    return frase_final"
   ]
  },
  {
   "cell_type": "code",
   "execution_count": 11,
   "id": "21c71b1f",
   "metadata": {
    "id": "21c71b1f"
   },
   "outputs": [],
   "source": [
    "mic = sr.Microphone()\n",
    "instance = sr.Recognizer()\n",
    "def audio_input():\n",
    "    mic = sr.Microphone()\n",
    "    \n",
    "    with mic as source:\n",
    "        instance.adjust_for_ambient_noise(source)\n",
    "        audio = instance.listen(source)\n",
    "        transcript = instance.recognize_google(audio, language='es-ES', show_all=True)\n",
    "        \n",
    "        return transcript['alternative'][0]['transcript']"
   ]
  },
  {
   "cell_type": "code",
   "execution_count": 12,
   "id": "79abccdb",
   "metadata": {
    "id": "79abccdb"
   },
   "outputs": [],
   "source": [
    "engine = pyttsx3.init()\n",
    "def speak(_texto):\n",
    "    engine.setProperty('voice', 'spanish')\n",
    "    engine.setProperty('rate', 150)\n",
    "    engine.say(_texto)\n",
    "    engine.runAndWait()"
   ]
  },
  {
   "cell_type": "code",
   "execution_count": 17,
   "id": "7b4c4804",
   "metadata": {
    "id": "7b4c4804"
   },
   "outputs": [],
   "source": [
    "def Alexa():\n",
    "    \n",
    "    input_text = audio_input()\n",
    "    \n",
    "    print(input_text)\n",
    "    \n",
    "    frase_speak = convierte_moneda(input_text, _hmm=hmm)\n",
    "\n",
    "    print(frase_speak)\n",
    "    speak(frase_speak)\n",
    "    "
   ]
  },
  {
   "cell_type": "code",
   "execution_count": 20,
   "id": "341d04fa",
   "metadata": {},
   "outputs": [
    {
     "name": "stdout",
     "output_type": "stream",
     "text": [
      "dime cuanto es cien euros en BRL\n",
      "100 euros es 563.3947BRL\n"
     ]
    }
   ],
   "source": [
    "Alexa()"
   ]
  }
 ],
 "metadata": {
  "colab": {
   "provenance": []
  },
  "kernelspec": {
   "display_name": "Python 3 (ipykernel)",
   "language": "python",
   "name": "python3"
  },
  "language_info": {
   "codemirror_mode": {
    "name": "ipython",
    "version": 3
   },
   "file_extension": ".py",
   "mimetype": "text/x-python",
   "name": "python",
   "nbconvert_exporter": "python",
   "pygments_lexer": "ipython3",
   "version": "3.9.7"
  }
 },
 "nbformat": 4,
 "nbformat_minor": 5
}
